{
 "cells": [
  {
   "cell_type": "markdown",
   "metadata": {
    "colab_type": "text",
    "id": "iQjHqsmTAVLU"
   },
   "source": [
    "## Fashion MNIST\n"
   ]
  },
  {
   "cell_type": "code",
   "execution_count": 1,
   "metadata": {},
   "outputs": [],
   "source": [
    "#importing tensorflow \n",
    "import tensorflow as tf\n",
    "from os import path, getcwd, chdir\n",
    "\n",
    "path = f\"{getcwd()}/../tmp2/mnist.npz\""
   ]
  },
  {
   "cell_type": "code",
   "execution_count": 2,
   "metadata": {},
   "outputs": [],
   "source": [
    "config = tf.ConfigProto()\n",
    "config.gpu_options.allow_growth = True\n",
    "sess = tf.Session(config=config)"
   ]
  },
  {
   "cell_type": "code",
   "execution_count": 16,
   "metadata": {},
   "outputs": [],
   "source": [
    "def train_mnist_conv():\n",
    "    \n",
    "    #defing the class for callback initialisation\n",
    "    class mycallback(tf.keras.callbacks.Callback):\n",
    "        def xx(self,epoch,logs={}):\n",
    "            if logs.get('acc')> 0.8:\n",
    "                print('Reached 99.8% accuracy so cancelling training')\n",
    "                self.model.stop_training = True\n",
    "    \n",
    "    \n",
    "    mnist = tf.keras.datasets.fashion_mnist\n",
    "    \n",
    "    (training_images, training_labels), (test_images, test_labels) = mnist.load_data()\n",
    "   \n",
    "    training_images=training_images.reshape(60000, 28, 28, 1)    #reshaping the traiaing set\n",
    "    training_images=training_images/255.0                        #normalising the training\n",
    "    test_images=test_images.reshape(10000, 28, 28, 1)    #reshaping the test data\n",
    "    test_images=test_images/255.0                                #normalising the test images \n",
    "    \n",
    "    #Creating an object for the class\n",
    "    callbacks = mycallback()     \n",
    "    \n",
    "    #Building model\n",
    "    model = tf.keras.models.Sequential([tf.keras.layers.Conv2D(64,(3,3),activation= 'relu',input_shape=(28,28,1)),tf.keras.layers.MaxPooling2D(2,2),tf.keras.layers.Flatten(),tf.keras.layers.Dense(512,activation = 'relu'),tf.keras.layers.Dense(10,activation = 'softmax')])\n",
    "    \n",
    "    #Compilig the model\n",
    "    model.compile(optimizer='adam', loss='sparse_categorical_crossentropy', metrics=['acc'])\n",
    "    \n",
    "    # model fitting\n",
    "    history = model.fit(training_images,training_labels,epochs= 2,callbacks = [callbacks])\n",
    "    \n",
    "    \n",
    "       \n",
    "    \n",
    "    return history.epoch, history.history['acc'][-1]\n",
    "\n"
   ]
  },
  {
   "cell_type": "code",
   "execution_count": 15,
   "metadata": {},
   "outputs": [
    {
     "name": "stdout",
     "output_type": "stream",
     "text": [
      "Epoch 1/2\n",
      "60000/60000 [==============================] - 23s 379us/sample - loss: 0.3591 - acc: 0.8716\n",
      "Epoch 2/2\n",
      "60000/60000 [==============================] - 17s 288us/sample - loss: 0.2376 - acc: 0.9117\n"
     ]
    },
    {
     "data": {
      "text/plain": [
       "([0, 1], 0.9117333)"
      ]
     },
     "execution_count": 15,
     "metadata": {},
     "output_type": "execute_result"
    }
   ],
   "source": [
    "#Running the function\n",
    "train_mnist_conv()"
   ]
  },
  {
   "cell_type": "code",
   "execution_count": null,
   "metadata": {},
   "outputs": [],
   "source": [
    "#Saving the notebook"
   ]
  },
  {
   "cell_type": "code",
   "execution_count": null,
   "metadata": {},
   "outputs": [],
   "source": [
    "%%javascript\n",
    "<!-- Save the notebook -->\n",
    "IPython.notebook.save_checkpoint();"
   ]
  },
  {
   "cell_type": "code",
   "execution_count": null,
   "metadata": {},
   "outputs": [],
   "source": [
    "%%javascript\n",
    "IPython.notebook.session.delete();\n",
    "window.onbeforeunload = null\n",
    "setTimeout(function() { window.close(); }, 1000);"
   ]
  }
 ],
 "metadata": {
  "coursera": {
   "course_slug": "introduction-tensorflow",
   "graded_item_id": "ml06H",
   "launcher_item_id": "hQF8A"
  },
  "kernelspec": {
   "display_name": "Python 3",
   "language": "python",
   "name": "python3"
  },
  "language_info": {
   "codemirror_mode": {
    "name": "ipython",
    "version": 3
   },
   "file_extension": ".py",
   "mimetype": "text/x-python",
   "name": "python",
   "nbconvert_exporter": "python",
   "pygments_lexer": "ipython3",
   "version": "3.6.8"
  }
 },
 "nbformat": 4,
 "nbformat_minor": 1
}
